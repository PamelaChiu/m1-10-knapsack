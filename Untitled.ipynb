{
 "cells": [
  {
   "cell_type": "code",
   "execution_count": 11,
   "metadata": {},
   "outputs": [
    {
     "name": "stdout",
     "output_type": "stream",
     "text": [
      "0\n",
      "3\n",
      "0\n",
      "7\n",
      "0\n",
      "3\n",
      "9\n",
      "0\n"
     ]
    },
    {
     "data": {
      "text/plain": [
       "9"
      ]
     },
     "execution_count": 11,
     "metadata": {},
     "output_type": "execute_result"
    }
   ],
   "source": [
    "#first pass\n",
    "def knapsack_recursive(bag_size, weights, values, n_items):\n",
    "    if n_items == 0 or bag_size == 0: \n",
    "        return 0\n",
    "    if weights[n_items-1] > bag_size:\n",
    "    #first pass weight[3] > 7 or 5 > 7\n",
    "    #right_side second pass weight[2] > 2 or 4 > 2 \n",
    "        return knapsack_recursive(bag_size, weights, values, n_items-1)\n",
    "        #right_side second pass weight[2] > 2 or 4 > 2 \n",
    "        #right_side second pass knapsack_recursive(2, weights, values, 2)\n",
    "    left_side = knapsack_recursive(bag_size, weights, values, n_items-1)\n",
    "    #left_side first pass knapsack_recursive(7, [2, 3, 4, 5], [3, 4, 5, 5], 3)\n",
    "    #left_side second pass knapsack_recursive(7, [2, 3, 4, 5], [3, 4, 5, 5], 2)\n",
    "    #left_side third pass knapsack_recursive(7, [2, 3, 4, 5], [3, 4, 5, 5], 1)\n",
    "    #left_side fourth pass knapsack_recursive(7, [2, 3, 4, 5], [3, 4, 5, 5], 0) return 0\n",
    "    #right_side_left side second pass knapsack_recursive(2, weights, values, 3)\n",
    "    #right_side_left side third pass knapsack_recursive(2, weights, values, 2)\n",
    "    #right_side_left side fourth pass knapsack_recursive(2, weights, values, 1)\n",
    "    #right_side_left side fifth pass knapsack_recursive(2, weights, values, 0)\n",
    "    print(left_side)\n",
    "    right_side = (\n",
    "        values[n_items-1] \n",
    "        + knapsack_recursive(bag_size - weights[n_items-1],\n",
    "                                weights, values, n_items-1)\n",
    "    #first pass 5 + knapsack_recursive(2, weights, values, 3)\n",
    "    #second pass 5 + 5 + knapsack_recursive(2-4, weights, values, 2)   \n",
    "    )\n",
    "    #print(right_side)\n",
    "    return max(left_side, right_side)\n",
    "\n",
    "bag_size = 7\n",
    "weights = [2, 3, 4, 5]\n",
    "values = [3, 4, 5, 5]\n",
    "#knapsack_recursive(7, [2, 3, 4, 5], [3, 4, 5, 5], 4)\n",
    "knapsack_recursive(bag_size, weights, values, len(weights))"
   ]
  },
  {
   "cell_type": "code",
   "execution_count": 7,
   "metadata": {},
   "outputs": [
    {
     "name": "stdout",
     "output_type": "stream",
     "text": [
      "[2, 3, 4, 5]\n",
      "3\n"
     ]
    },
    {
     "data": {
      "text/plain": [
       "5"
      ]
     },
     "execution_count": 7,
     "metadata": {},
     "output_type": "execute_result"
    }
   ],
   "source": [
    "weights1 = [2, 3, 4, 5]\n",
    "n_items=len(weights1)\n",
    "print(weights1)\n",
    "print(n_items-1)\n",
    "weights1[n_items-1]"
   ]
  },
  {
   "cell_type": "code",
   "execution_count": 12,
   "metadata": {},
   "outputs": [
    {
     "data": {
      "text/plain": [
       "3"
      ]
     },
     "execution_count": 12,
     "metadata": {},
     "output_type": "execute_result"
    }
   ],
   "source": [
    "def fib(n):\n",
    "    if (n==0):\n",
    "        return 0\n",
    "    if (n==1):\n",
    "        return 1\n",
    "    return fib(n-1)+fib(n-2)\n",
    "fib(4)"
   ]
  },
  {
   "cell_type": "code",
   "execution_count": null,
   "metadata": {},
   "outputs": [],
   "source": []
  }
 ],
 "metadata": {
  "kernelspec": {
   "display_name": "Python 3",
   "language": "python",
   "name": "python3"
  },
  "language_info": {
   "codemirror_mode": {
    "name": "ipython",
    "version": 3
   },
   "file_extension": ".py",
   "mimetype": "text/x-python",
   "name": "python",
   "nbconvert_exporter": "python",
   "pygments_lexer": "ipython3",
   "version": "3.8.3"
  }
 },
 "nbformat": 4,
 "nbformat_minor": 4
}
