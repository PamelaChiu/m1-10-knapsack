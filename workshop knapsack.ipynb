{
 "cells": [
  {
   "cell_type": "markdown",
   "metadata": {},
   "source": [
    "## Knapsack Problem\n",
    "\n",
    "The *knapsack problem*:  given a set of integers $S = \\{s_1, s_2, \\ldots, s_n\\}$ and a target number $T$, find a subset (i.e., knapsack) of $S$ which adds up exactly to $T$.  \n",
    "\n",
    "For example, if $S = \\{1,2,5, 9, 10\\}$, there is a subset that adds up to $T = 22$, but not to $T = 23$.  Complete the following tasks related to this problem."
   ]
  },
  {
   "cell_type": "markdown",
   "metadata": {},
   "source": [
    "# 1. \n",
    "\n",
    "Find a subset of $S = \\{1,2,5, 9, 10\\}$ with sum $T = 22$.  Explain the process (algorithm) you used mentally to find the subset.  Then apply the same process in an attempt to find a subset with sum $T = 23$.  \n",
    "\n",
    "How do you know there is no such subset?"
   ]
  },
  {
   "cell_type": "markdown",
   "metadata": {},
   "source": [
    "\"\"\"\n",
    "My target is 22.\n",
    "The list S has 1,2,5,9,10.\n",
    "I would take the largest number (10) and add the second largest number (9).\n",
    "10+9 = 19. My remaining is 3. I add 1 and 2. My subset is 1, 2, 9, 10.\n",
    "\n",
    "My target is 23.\n",
    "The list has S has 1,2,5,9,10.\n",
    "I would take the largest number (10). 23-10 = 13\n",
    "None of the combination (1,2,5,9) equals to 13.\n",
    "\n",
    "\"\"\""
   ]
  },
  {
   "cell_type": "markdown",
   "metadata": {
    "collapsed": true
   },
   "source": [
    "# 2.\n",
    "\n",
    "Consider the following possible algorithm for the knapsack problem, written in psuedocode: \n",
    "```python\n",
    "knapsack(S[], T):\n",
    "    K = empty\n",
    "    for each i < size(S)\n",
    "        if sum(K) + S[i] <= T, put S[i] into K\n",
    "    if sum(K) = T, return K, else return False.\n",
    "```\n",
    "**a)** Describe what this algorithm does in English.  \n",
    "\n",
    "**b)** Implement this algorithm in Python and run it on the $S$ and $T$ above.\n",
    "\n",
    "\n",
    "**c)** Prove that this algorithm is NOT correct.  That is, find a counterexample: a set $S$ and number $T$ for which there is a solution, but not one that the algorithm finds.\n",
    "\n",
    "**d)** Verify that this particular $S$ and $T$ does not give the right output when entered to your Python program."
   ]
  },
  {
   "cell_type": "markdown",
   "metadata": {},
   "source": [
    "a) S is a list and T is target.\n",
    "The algorithm will check every element (one after the other) in the list.\n",
    "If the current total plus the current element is less than the target, return the new total or return False\n"
   ]
  },
  {
   "cell_type": "code",
   "execution_count": 34,
   "metadata": {},
   "outputs": [
    {
     "name": "stdout",
     "output_type": "stream",
     "text": [
      "False\n",
      "False\n"
     ]
    }
   ],
   "source": [
    "#b\n",
    "def knapsack(lst,target):\n",
    "    total = []\n",
    "    for i in range(len(lst)):\n",
    "        if sum(total,lst[i]) <= target:\n",
    "            total.append(lst[i])\n",
    "    if sum(total) == target:\n",
    "        return total\n",
    "    return False\n",
    "    \n",
    "print(knapsack([1,2,5,9,10],22))\n",
    "#c\n",
    "print(knapsack([1,3,5,6,5,6,3,8,8],24))"
   ]
  },
  {
   "cell_type": "markdown",
   "metadata": {},
   "source": [
    "d) This is not checking the combination in the list.\n",
    "The algorithm is checking from left to right, element by element. \n",
    "This is a permutation."
   ]
  },
  {
   "cell_type": "markdown",
   "metadata": {},
   "source": [
    "# 3. \n",
    "\n",
    "Another try: What if you put the elements in the knapsack from largest to smallest?  Check that this too is not a correct algorithm."
   ]
  },
  {
   "cell_type": "code",
   "execution_count": 33,
   "metadata": {},
   "outputs": [
    {
     "name": "stdout",
     "output_type": "stream",
     "text": [
      "False\n",
      "False\n"
     ]
    }
   ],
   "source": [
    "def knapsack1(lst,target):\n",
    "    total = []\n",
    "    for i in range(len(lst)):\n",
    "        if sum(total,lst[i]) <= target:\n",
    "            total.append(lst[i])\n",
    "    if sum(total) == target:\n",
    "        return total\n",
    "    return False\n",
    "    \n",
    "print(knapsack([1,2,5,9,10],22))\n",
    "print(knapsack([8,8,6,6,5,5,3,3,1],24))"
   ]
  },
  {
   "cell_type": "markdown",
   "metadata": {},
   "source": [
    "# 4.\n",
    "\n",
    "Describe a correct algorithm for the knapsack problem (that we haven't seen in class), both in English and in pseudocode.  Then implement the algorithm in Python.  Explain how you know your algorithm is correct (even if it might not be efficient)."
   ]
  },
  {
   "cell_type": "markdown",
   "metadata": {},
   "source": [
    "a)The best algorithm is to check the combination of the list provided\n",
    "and return list that equals to the target\n",
    "\n",
    "\n",
    "b)list_of_t is empty\n",
    "for each i in size lst\n",
    "for each sublist in combinations\n",
    "if the sum of sublist equals to target, add subset to list_of_t\n",
    "return list_of_t"
   ]
  },
  {
   "cell_type": "code",
   "execution_count": 57,
   "metadata": {},
   "outputs": [
    {
     "name": "stdout",
     "output_type": "stream",
     "text": [
      "[(1, 2, 9, 10)]\n",
      "[(8, 8, 5, 3), (8, 8, 5, 3), (8, 8, 5, 3), (8, 8, 5, 3), (8, 6, 5, 5), (8, 6, 5, 5), (8, 6, 5, 5), (8, 6, 5, 5), (8, 6, 6, 3, 1), (8, 6, 6, 3, 1), (8, 5, 5, 3, 3), (8, 6, 6, 3, 1), (8, 6, 6, 3, 1), (8, 5, 5, 3, 3), (6, 6, 5, 3, 3, 1), (6, 6, 5, 3, 3, 1)]\n"
     ]
    }
   ],
   "source": [
    "#c)\n",
    "from itertools import combinations\n",
    "\n",
    "def knapsack2(lst,target):\n",
    "    list_of_t = []\n",
    "    for i in range(0,len(lst)):\n",
    "        for sublist in itertools.combinations(lst,i):\n",
    "            if sum(sublist) == target:\n",
    "                list_of_t.append(sublist)\n",
    "    return list_of_t\n",
    "\n",
    "print(knapsack2([1,2,5,9,10],22))\n",
    "print(knapsack2([8,8,6,6,5,5,3,3,1],24))"
   ]
  },
  {
   "cell_type": "markdown",
   "metadata": {
    "collapsed": true
   },
   "source": [
    "# 5. Generating correct change\n",
    "\n",
    "Now, we will be making change using the fewest coins. \n",
    "\n",
    "Suppose you are a programmer for a vending machine manufacturer. Your company wants to streamline effort by giving out the fewest possible coins in change for each transaction. Suppose a customer puts in a dollar bill and purchases an item for 37 cents. What is the smallest number of coins you can use to make change? The answer is six coins: two quarters, one dime, and three pennies. \n",
    "\n",
    "How did we arrive at the answer of six coins? We start with the largest coin in our arsenal (a quarter) and use as many of those as possible, then we go to the next lowest coin value and use as many of those as possible. This is the greedy algorithm for change-making.\n",
    "\n",
    "**Question:** Write the greedy algorithm for change making.\n",
    "\n",
    "The input is the amount of change to generate (in pennies) and a list of coin sizes (in pennies)\n",
    "\n",
    "The output is the minimum number of coins to gener\n",
    "\n",
    "```\n",
    "# buys with 1 dollar for 37 pennies\n",
    "# Second argument says we can give quarters, dimes, nickels and pennies\n",
    "make_change(100 - 37, [25, 10, 5, 1])\n",
    "\n",
    "# 2 quarters, one dime, and three pennies\n",
    "output --> 6 # Output would be equivalent to the choices [2, 1, 0, 3]\n",
    "```"
   ]
  },
  {
   "cell_type": "code",
   "execution_count": 3,
   "metadata": {},
   "outputs": [
    {
     "data": {
      "text/plain": [
       "[3, 1, 1, 1]"
      ]
     },
     "execution_count": 3,
     "metadata": {},
     "output_type": "execute_result"
    }
   ],
   "source": [
    "def make_change(change,coins):\n",
    "    lst=[]\n",
    "    c = change\n",
    "    for coin in coins:\n",
    "        if c > 0:\n",
    "            int_num = c//coin\n",
    "            lst.append(int_num)\n",
    "            c = c%coin\n",
    "    return lst\n",
    "         \n",
    "change = 100-9\n",
    "make_change(change,[25, 10, 5, 1])"
   ]
  },
  {
   "cell_type": "markdown",
   "metadata": {},
   "source": [
    "# 6 Recursive change\n",
    "\n",
    "Write the greedy change making algorithm using recursion"
   ]
  },
  {
   "cell_type": "code",
   "execution_count": 116,
   "metadata": {},
   "outputs": [
    {
     "data": {
      "text/plain": [
       "[3, 1, 1, 1]"
      ]
     },
     "execution_count": 116,
     "metadata": {},
     "output_type": "execute_result"
    }
   ],
   "source": [
    "new_lst=[]\n",
    "def make_change1(change,coins):\n",
    "    if len(coins) > 0:    \n",
    "        c = change\n",
    "        num = c//coins[0]\n",
    "        new_lst.append(num)\n",
    "        c = c%coins[0]\n",
    "        coins.pop(0)\n",
    "        return make_change1(c,coins)\n",
    "    return new_lst\n",
    "    \n",
    "changes = 100-9\n",
    "make_change1(changes,[25, 10, 5, 1])"
   ]
  },
  {
   "cell_type": "markdown",
   "metadata": {},
   "source": [
    "# 7 (Stretch) Dynamic Programming Change making\n",
    "\n",
    "Write a solution to the change making problem using dynamic programming.\n",
    "\n",
    "**Hint:** Start with making change for one cent and systematically work its way up to the amount of change we require. This guarantees us that at each step of the algorithm we already know the minimum number of coins needed to make change for any smaller amount. Keep a memoized table of results for each step working up to the amount of change you need to generate."
   ]
  },
  {
   "cell_type": "code",
   "execution_count": null,
   "metadata": {},
   "outputs": [],
   "source": []
  },
  {
   "cell_type": "code",
   "execution_count": null,
   "metadata": {},
   "outputs": [],
   "source": []
  }
 ],
 "metadata": {
  "kernelspec": {
   "display_name": "Python 3",
   "language": "python",
   "name": "python3"
  },
  "language_info": {
   "codemirror_mode": {
    "name": "ipython",
    "version": 3
   },
   "file_extension": ".py",
   "mimetype": "text/x-python",
   "name": "python",
   "nbconvert_exporter": "python",
   "pygments_lexer": "ipython3",
   "version": "3.8.3"
  }
 },
 "nbformat": 4,
 "nbformat_minor": 1
}
